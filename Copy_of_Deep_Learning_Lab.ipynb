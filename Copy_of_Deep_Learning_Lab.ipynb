{
  "nbformat": 4,
  "nbformat_minor": 0,
  "metadata": {
    "colab": {
      "name": "Copy of Deep_Learning_Lab.ipynb",
      "provenance": [],
      "authorship_tag": "ABX9TyNL06JWvp04CI4ReIMhOC21",
      "include_colab_link": true
    },
    "kernelspec": {
      "name": "python3",
      "display_name": "Python 3"
    }
  },
  "cells": [
    {
      "cell_type": "markdown",
      "metadata": {
        "id": "view-in-github",
        "colab_type": "text"
      },
      "source": [
        "<a href=\"https://colab.research.google.com/github/FutureHet/Deep-Learning/blob/main/Copy_of_Deep_Learning_Lab.ipynb\" target=\"_parent\"><img src=\"https://colab.research.google.com/assets/colab-badge.svg\" alt=\"Open In Colab\"/></a>"
      ]
    },
    {
      "cell_type": "markdown",
      "metadata": {
        "id": "SmH5k_4M6qUL"
      },
      "source": [
        "\r\n",
        "# **Practical 1, Date: 12-01-2021**"
      ]
    },
    {
      "cell_type": "code",
      "metadata": {
        "colab": {
          "base_uri": "https://localhost:8080/"
        },
        "id": "DK4r4-RBvlTt",
        "outputId": "66aa704a-9eec-4fe6-8772-1d3795840727"
      },
      "source": [
        "import numpy\r\n",
        "from sklearn import metrics\r\n",
        "from sklearn.datasets import fetch_openml\r\n",
        "from sklearn.model_selection import train_test_split, GridSearchCV\r\n",
        "from sklearn.neural_network import MLPClassifier\r\n",
        "\r\n",
        "mnist_dataset = fetch_openml('mnist_784', cache=False)\r\n",
        "\r\n",
        "X = mnist_dataset.data.astype('float32')\r\n",
        "y = mnist_dataset.target.astype('int64')\r\n",
        "\r\n",
        "X /= 255.0\r\n",
        "print(X.shape)"
      ],
      "execution_count": 2,
      "outputs": [
        {
          "output_type": "stream",
          "text": [
            "(70000, 784)\n"
          ],
          "name": "stdout"
        }
      ]
    },
    {
      "cell_type": "code",
      "metadata": {
        "colab": {
          "base_uri": "https://localhost:8080/"
        },
        "id": "x8nZv-Fx5YjJ",
        "outputId": "1ac49783-52e9-43a6-95cb-600eebe1bdfa"
      },
      "source": [
        "X_train, X_test, y_train, y_test = train_test_split(X, y, test_size=0.15, random_state = 1)\r\n",
        "print(X_train.shape, y_train.shape, X_test.shape, y_test.shape)"
      ],
      "execution_count": 3,
      "outputs": [
        {
          "output_type": "stream",
          "text": [
            "(59500, 784) (59500,) (10500, 784) (10500,)\n"
          ],
          "name": "stdout"
        }
      ]
    },
    {
      "cell_type": "code",
      "metadata": {
        "colab": {
          "base_uri": "https://localhost:8080/"
        },
        "id": "asWbM_VN7sf7",
        "outputId": "544f152b-32d0-4b9f-af83-8c1736f9a562"
      },
      "source": [
        "mlp = MLPClassifier(hidden_layer_sizes=(784,), max_iter=300, solver = 'adam', learning_rate_init=0.01)\r\n",
        "mlp.fit(X_train, y_train)"
      ],
      "execution_count": 6,
      "outputs": [
        {
          "output_type": "execute_result",
          "data": {
            "text/plain": [
              "MLPClassifier(activation='relu', alpha=0.0001, batch_size='auto', beta_1=0.9,\n",
              "              beta_2=0.999, early_stopping=False, epsilon=1e-08,\n",
              "              hidden_layer_sizes=(784,), learning_rate='constant',\n",
              "              learning_rate_init=0.01, max_fun=15000, max_iter=300,\n",
              "              momentum=0.9, n_iter_no_change=10, nesterovs_momentum=True,\n",
              "              power_t=0.5, random_state=None, shuffle=True, solver='adam',\n",
              "              tol=0.0001, validation_fraction=0.1, verbose=False,\n",
              "              warm_start=False)"
            ]
          },
          "metadata": {
            "tags": []
          },
          "execution_count": 6
        }
      ]
    },
    {
      "cell_type": "code",
      "metadata": {
        "colab": {
          "base_uri": "https://localhost:8080/"
        },
        "id": "prXHAX6A9rTZ",
        "outputId": "c19ddb73-1a6c-4d0f-a8a7-3c3be388bb82"
      },
      "source": [
        "final_prediction = mlp.predict(X_test)\r\n",
        "\r\n",
        "print(\"Prediction compeleted\\n\\nValues :- \\n\")\r\n",
        "print(final_prediction)\r\n",
        "print(\"\\n\\n\")\r\n",
        "\r\n",
        "print(\"The correcteness of this classification is :- \", end = \" \")\r\n",
        "print(metrics.accuracy_score(y_test, final_prediction, normalize = True))\r\n",
        "\r\n",
        "print(\"Report of the classification is :-\")\r\n",
        "print(metrics.classification_report(y_test, final_prediction))\r\n",
        "\r\n",
        "print(\"Confusion Matrix is :-\")\r\n",
        "print(metrics.confusion_matrix(y_test, final_prediction))"
      ],
      "execution_count": 5,
      "outputs": [
        {
          "output_type": "stream",
          "text": [
            "Prediction compeleted\n",
            "\n",
            "Values :- \n",
            "\n",
            "[2 2 7 ... 3 1 0]\n",
            "\n",
            "\n",
            "\n",
            "The correcteness of this classification is :-  0.8712380952380953\n",
            "Report of the classification is :-\n",
            "              precision    recall  f1-score   support\n",
            "\n",
            "           0       0.95      0.95      0.95      1020\n",
            "           1       0.98      0.90      0.94      1242\n",
            "           2       0.53      0.95      0.68      1079\n",
            "           3       0.94      0.74      0.83      1081\n",
            "           4       0.94      0.91      0.92       983\n",
            "           5       0.96      0.81      0.88       982\n",
            "           6       0.99      0.88      0.93       983\n",
            "           7       0.97      0.90      0.93      1100\n",
            "           8       0.86      0.80      0.83       993\n",
            "           9       0.92      0.87      0.90      1037\n",
            "\n",
            "    accuracy                           0.87     10500\n",
            "   macro avg       0.91      0.87      0.88     10500\n",
            "weighted avg       0.91      0.87      0.88     10500\n",
            "\n",
            "Confusion Matrix is :-\n",
            "[[ 974    0   36    0    2    4    0    0    2    2]\n",
            " [   0 1116  114    0    2    3    1    1    5    0]\n",
            " [   6    2 1029    6    3    1    3    7   22    0]\n",
            " [   8    3  215  795    2   17    0    8   30    3]\n",
            " [   0    0   38    7  891    0    0    1   13   33]\n",
            " [   6    2  140    2    5  793    7    1   23    3]\n",
            " [  10    0   94    0    3    8  864    1    3    0]\n",
            " [   4    5   50    8    8    0    0  987    5   33]\n",
            " [   8    4  177    3    4    1    1    1  794    0]\n",
            " [   4    2   37   23   25    2    0   12   27  905]]\n"
          ],
          "name": "stdout"
        }
      ]
    },
    {
      "cell_type": "code",
      "metadata": {
        "id": "hn3yrQJ06aKA"
      },
      "source": [
        "param = {'hidden_layer_sizes' : [(784,98)], 'max_iter' : [10, 20], 'solver' : ['adam'], 'learning_rate_init' : [0.1, 0.03, 0.02]}\r\n",
        "\r\n",
        "model_ver = GridSearchCV(MLPClassifier(), param_grid = param, n_jobs = -1, cv = 3)\r\n",
        "model_ver.fit(X_train, y_train)\r\n",
        "\r\n",
        "print(model_ver.best_params_)\r\n",
        "\r\n",
        "final_prediction = model_ver.predict(x_test_set)"
      ],
      "execution_count": null,
      "outputs": []
    },
    {
      "cell_type": "code",
      "metadata": {
        "id": "gYkhJPrPFbMp"
      },
      "source": [
        "final_prediction = model_ver.predict(X_test)\r\n",
        "\r\n",
        "print(\"Prediction compeleted\\n\\nValues :- \\n\")\r\n",
        "print(final_prediction)\r\n",
        "print(\"\\n\\n\")\r\n",
        "\r\n",
        "print(\"The correcteness of this classification is :- \", end = \" \")\r\n",
        "print(metrics.accuracy_score(y_test, final_prediction, normalize = True))\r\n",
        "\r\n",
        "print(\"Report of the classification is :-\")\r\n",
        "print(metrics.classification_report(y_test, final_prediction))\r\n",
        "\r\n",
        "print(\"Confusion Matrix is :-\")\r\n",
        "print(metrics.confusion_matrix(y_test, final_prediction))"
      ],
      "execution_count": null,
      "outputs": []
    }
  ]
}